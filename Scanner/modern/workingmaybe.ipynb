{
 "cells": [
  {
   "cell_type": "code",
   "execution_count": 1,
   "id": "3f317597",
   "metadata": {},
   "outputs": [],
   "source": [
    "import serial\n",
    "import time"
   ]
  },
  {
   "cell_type": "code",
   "execution_count": 2,
   "id": "2493fd6a",
   "metadata": {},
   "outputs": [],
   "source": [
    "def send_command(ser, cmd):\n",
    "    full_cmd = cmd.encode() + b'\\r'\n",
    "    ser.write(full_cmd)\n",
    "    time.sleep(0.1) \n",
    "    response = ser.read_all()\n",
    "    print(f\"Sent: {cmd} | Received: {response.strip()}\")"
   ]
  },
  {
   "cell_type": "code",
   "execution_count": 18,
   "id": "a50daef9",
   "metadata": {},
   "outputs": [],
   "source": [
    "port = 'COM4'\n",
    "ser = serial.Serial(port, baudrate=9600, timeout=1)"
   ]
  },
  {
   "cell_type": "code",
   "execution_count": 21,
   "id": "1cf3d422",
   "metadata": {},
   "outputs": [
    {
     "name": "stdout",
     "output_type": "stream",
     "text": [
      "Sent: r | Received: b''\n",
      "Sent: s r0x24 1 | Received: b''\n",
      "Sent: s r0xc8 256 | Received: b''\n"
     ]
    }
   ],
   "source": [
    "# ---- RESET ----\n",
    "ser.reset_input_buffer()\n",
    "ser.reset_output_buffer()\n",
    "send_command(ser, 'r')\n",
    "send_command(ser, 's r0x24 1')  # Turn motor on\n",
    "\n",
    "#send_command(ser, 's r0xc8 0') # Sets movement to relative\n",
    "send_command(ser, 's r0xc8 256') # Sets movement to absolute"
   ]
  },
  {
   "cell_type": "code",
   "execution_count": 13,
   "id": "640e2489",
   "metadata": {},
   "outputs": [
    {
     "name": "stdout",
     "output_type": "stream",
     "text": [
      "Sent: t 2 | Received: b'ok'\n"
     ]
    }
   ],
   "source": [
    "# --- Home ---\n",
    "\n",
    "send_command(ser, 't 2')\n",
    "#send_command(ser, 't 0x5002')"
   ]
  },
  {
   "cell_type": "code",
   "execution_count": 24,
   "id": "0ed4f603",
   "metadata": {},
   "outputs": [
    {
     "name": "stdout",
     "output_type": "stream",
     "text": [
      "Sent: s r0xca 130000 | Received: b'ok'\n",
      "Sent: t 1 | Received: b'ok'\n"
     ]
    }
   ],
   "source": [
    "send_command(ser, 's r0xca 130000') # Move back 10000\n",
    "send_command(ser, 't 1')\n",
    "#time.sleep(1)\n",
    "#send_command(ser, 's r0xca 10000') # Move forward 10000\n",
    "#send_command(ser, 't 1')"
   ]
  },
  {
   "cell_type": "code",
   "execution_count": 25,
   "id": "7654d92b",
   "metadata": {},
   "outputs": [
    {
     "name": "stdout",
     "output_type": "stream",
     "text": [
      "Sent: t 0 | Received: b'ok'\n"
     ]
    }
   ],
   "source": [
    "send_command(ser, 't 0')"
   ]
  },
  {
   "cell_type": "code",
   "execution_count": 7,
   "id": "755767f6",
   "metadata": {},
   "outputs": [
    {
     "name": "stdout",
     "output_type": "stream",
     "text": [
      "Sent: s r0x24 0 | Received: b''\n"
     ]
    }
   ],
   "source": [
    "send_command(ser, 's r0x24 0') # Turn motor off"
   ]
  }
 ],
 "metadata": {
  "kernelspec": {
   "display_name": "Python 3",
   "language": "python",
   "name": "python3"
  },
  "language_info": {
   "codemirror_mode": {
    "name": "ipython",
    "version": 3
   },
   "file_extension": ".py",
   "mimetype": "text/x-python",
   "name": "python",
   "nbconvert_exporter": "python",
   "pygments_lexer": "ipython3",
   "version": "3.10.11"
  }
 },
 "nbformat": 4,
 "nbformat_minor": 5
}
