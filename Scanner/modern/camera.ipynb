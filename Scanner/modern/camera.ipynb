{
 "cells": [
  {
   "cell_type": "code",
   "execution_count": 11,
   "id": "bd05fa25",
   "metadata": {},
   "outputs": [],
   "source": [
    "import ctypes\n",
    "import numpy as np\n",
    "import imageio\n",
    "import os"
   ]
  },
  {
   "cell_type": "code",
   "execution_count": 12,
   "id": "19506fb0",
   "metadata": {},
   "outputs": [
    {
     "ename": "FileNotFoundError",
     "evalue": "Could not find module 'PCO_CAM_SDK.dll' (or one of its dependencies). Try using the full path with constructor syntax.",
     "output_type": "error",
     "traceback": [
      "\u001b[1;31m---------------------------------------------------------------------------\u001b[0m",
      "\u001b[1;31mFileNotFoundError\u001b[0m                         Traceback (most recent call last)",
      "Cell \u001b[1;32mIn[12], line 2\u001b[0m\n\u001b[0;32m      1\u001b[0m \u001b[38;5;66;03m# Load the SDK\u001b[39;00m\n\u001b[1;32m----> 2\u001b[0m pco \u001b[38;5;241m=\u001b[39m \u001b[43mctypes\u001b[49m\u001b[38;5;241;43m.\u001b[39;49m\u001b[43mwindll\u001b[49m\u001b[38;5;241;43m.\u001b[39;49m\u001b[43mLoadLibrary\u001b[49m\u001b[43m(\u001b[49m\u001b[38;5;124;43m\"\u001b[39;49m\u001b[38;5;124;43mPCO_CAM_SDK.dll\u001b[39;49m\u001b[38;5;124;43m\"\u001b[39;49m\u001b[43m)\u001b[49m\n\u001b[0;32m      4\u001b[0m \u001b[38;5;66;03m# Define data types\u001b[39;00m\n\u001b[0;32m      5\u001b[0m USHORT \u001b[38;5;241m=\u001b[39m ctypes\u001b[38;5;241m.\u001b[39mc_ushort\n",
      "File \u001b[1;32mc:\\Users\\Lab User\\AppData\\Local\\Programs\\Python\\Python310\\lib\\ctypes\\__init__.py:452\u001b[0m, in \u001b[0;36mLibraryLoader.LoadLibrary\u001b[1;34m(self, name)\u001b[0m\n\u001b[0;32m    451\u001b[0m \u001b[38;5;28;01mdef\u001b[39;00m\u001b[38;5;250m \u001b[39m\u001b[38;5;21mLoadLibrary\u001b[39m(\u001b[38;5;28mself\u001b[39m, name):\n\u001b[1;32m--> 452\u001b[0m     \u001b[38;5;28;01mreturn\u001b[39;00m \u001b[38;5;28;43mself\u001b[39;49m\u001b[38;5;241;43m.\u001b[39;49m\u001b[43m_dlltype\u001b[49m\u001b[43m(\u001b[49m\u001b[43mname\u001b[49m\u001b[43m)\u001b[49m\n",
      "File \u001b[1;32mc:\\Users\\Lab User\\AppData\\Local\\Programs\\Python\\Python310\\lib\\ctypes\\__init__.py:374\u001b[0m, in \u001b[0;36mCDLL.__init__\u001b[1;34m(self, name, mode, handle, use_errno, use_last_error, winmode)\u001b[0m\n\u001b[0;32m    371\u001b[0m \u001b[38;5;28mself\u001b[39m\u001b[38;5;241m.\u001b[39m_FuncPtr \u001b[38;5;241m=\u001b[39m _FuncPtr\n\u001b[0;32m    373\u001b[0m \u001b[38;5;28;01mif\u001b[39;00m handle \u001b[38;5;129;01mis\u001b[39;00m \u001b[38;5;28;01mNone\u001b[39;00m:\n\u001b[1;32m--> 374\u001b[0m     \u001b[38;5;28mself\u001b[39m\u001b[38;5;241m.\u001b[39m_handle \u001b[38;5;241m=\u001b[39m \u001b[43m_dlopen\u001b[49m\u001b[43m(\u001b[49m\u001b[38;5;28;43mself\u001b[39;49m\u001b[38;5;241;43m.\u001b[39;49m\u001b[43m_name\u001b[49m\u001b[43m,\u001b[49m\u001b[43m \u001b[49m\u001b[43mmode\u001b[49m\u001b[43m)\u001b[49m\n\u001b[0;32m    375\u001b[0m \u001b[38;5;28;01melse\u001b[39;00m:\n\u001b[0;32m    376\u001b[0m     \u001b[38;5;28mself\u001b[39m\u001b[38;5;241m.\u001b[39m_handle \u001b[38;5;241m=\u001b[39m handle\n",
      "\u001b[1;31mFileNotFoundError\u001b[0m: Could not find module 'PCO_CAM_SDK.dll' (or one of its dependencies). Try using the full path with constructor syntax."
     ]
    }
   ],
   "source": [
    "# Load the SDK\n",
    "pco = ctypes.windll.LoadLibrary(\"PCO_CAM_SDK.dll\")\n",
    "\n",
    "# Define data types\n",
    "USHORT = ctypes.c_ushort\n",
    "DWORD = ctypes.c_uint32\n",
    "HANDLE = ctypes.c_void_p\n",
    "PVOID = ctypes.c_void_p"
   ]
  },
  {
   "cell_type": "code",
   "execution_count": null,
   "id": "6dd4f1c6",
   "metadata": {},
   "outputs": [],
   "source": [
    "# Open the camera\n",
    "cam = HANDLE()\n",
    "error = pco.PCO_OpenCamera(ctypes.byref(cam), 0)\n",
    "print(\"OpenCamera error code:\", error)\n",
    "\n",
    "# Arm the camera\n",
    "error = pco.PCO_ArmCamera(cam)\n",
    "print(\"ArmCamera error code:\", error)"
   ]
  },
  {
   "cell_type": "code",
   "execution_count": null,
   "id": "e6d4a1c9",
   "metadata": {},
   "outputs": [],
   "source": [
    "# Allocate buffer\n",
    "sBufNr = USHORT()\n",
    "wXRes, wYRes = 1920, 1080  # use your actual resolution\n",
    "image_size = wXRes * wYRes * 2  # 16-bit pixels\n",
    "\n",
    "# Create empty buffer\n",
    "buf = (ctypes.c_ushort * (wXRes * wYRes))()\n",
    "buf_ptr = ctypes.cast(buf, PVOID)\n",
    "\n",
    "error = pco.PCO_AllocateBuffer(cam, ctypes.byref(sBufNr), DWORD(image_size), ctypes.byref(buf_ptr), 0)\n",
    "print(\"AllocateBuffer error:\", error)"
   ]
  },
  {
   "cell_type": "code",
   "execution_count": null,
   "id": "175dcb1f",
   "metadata": {},
   "outputs": [],
   "source": [
    "# Set recording state to ON\n",
    "error = pco.PCO_SetRecordingState(cam, 1)\n",
    "print(\"SetRecordingState (start) error:\", error)\n",
    "\n",
    "# Trigger an image (depends on mode)\n",
    "# If using software trigger:\n",
    "pco.PCO_ForceTrigger(cam)\n",
    "\n",
    "# Wait for image to be available (simplified)\n",
    "import time\n",
    "time.sleep(1)  # wait for image exposure\n",
    "\n",
    "# Grab image\n",
    "error = pco.PCO_GetImageEx(cam, sBufNr, 0, 1, 16)\n",
    "print(\"GetImageEx error:\", error)\n",
    "\n",
    "# Save image\n",
    "image_array = np.ctypeslib.as_array(buf).reshape((wYRes, wXRes))\n",
    "imageio.imwrite(\"pco_image.tiff\", image_array)\n",
    "print(\"Image saved as pco_image.tiff\")\n"
   ]
  },
  {
   "cell_type": "code",
   "execution_count": null,
   "id": "76d5591e",
   "metadata": {},
   "outputs": [],
   "source": [
    "# Stop recording\n",
    "error = pco.PCO_SetRecordingState(cam, 0)\n",
    "print(\"SetRecordingState (stop) error:\", error)\n",
    "\n",
    "# Free buffer\n",
    "pco.PCO_FreeBuffer(cam, sBufNr)\n",
    "\n",
    "# Close camera\n",
    "pco.PCO_CloseCamera(cam)"
   ]
  }
 ],
 "metadata": {
  "kernelspec": {
   "display_name": "Python 3",
   "language": "python",
   "name": "python3"
  },
  "language_info": {
   "codemirror_mode": {
    "name": "ipython",
    "version": 3
   },
   "file_extension": ".py",
   "mimetype": "text/x-python",
   "name": "python",
   "nbconvert_exporter": "python",
   "pygments_lexer": "ipython3",
   "version": "3.10.11"
  }
 },
 "nbformat": 4,
 "nbformat_minor": 5
}
