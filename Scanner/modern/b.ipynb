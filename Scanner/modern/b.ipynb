{
 "cells": [
  {
   "cell_type": "code",
   "execution_count": 1,
   "id": "1bb421cf",
   "metadata": {},
   "outputs": [],
   "source": [
    "import serial\n",
    "import time"
   ]
  },
  {
   "cell_type": "code",
   "execution_count": 2,
   "id": "e22d8407",
   "metadata": {},
   "outputs": [],
   "source": [
    "def send_command(ser, cmd):\n",
    "    full_cmd = cmd.encode() + b'\\r'\n",
    "    ser.write(full_cmd)\n",
    "    time.sleep(0.1) \n",
    "    response = ser.read_all()\n",
    "    print(f\"Sent: {cmd} | Received: {response.strip()}\")\n",
    "    # e 3 means faulty cable connection"
   ]
  },
  {
   "cell_type": "code",
   "execution_count": 3,
   "id": "e286b994",
   "metadata": {},
   "outputs": [],
   "source": [
    "port = 'COM5'\n",
    "ser = serial.Serial(port, baudrate=9600, timeout=1)"
   ]
  },
  {
   "cell_type": "code",
   "execution_count": 8,
   "id": "0497c48e",
   "metadata": {},
   "outputs": [
    {
     "name": "stdout",
     "output_type": "stream",
     "text": [
      "Sent: HR | Received: b'e 3'\n",
      "Sent: AR | Received: b'e 3'\n",
      "Sent: ME | Received: b'e 3'\n"
     ]
    }
   ],
   "source": [
    "# Reset port just in case\n",
    "ser.reset_input_buffer()\n",
    "ser.reset_output_buffer()\n",
    "time.sleep(.5)\n",
    "send_command(ser, 'HR')\n",
    "send_command(ser, 'AR')\n",
    "send_command(ser, 'ME')"
   ]
  },
  {
   "cell_type": "code",
   "execution_count": 9,
   "id": "d1cac46c",
   "metadata": {},
   "outputs": [
    {
     "name": "stdout",
     "output_type": "stream",
     "text": [
      "Sent: r | Received: b''\n",
      "Sent: s r0xca -1000 | Received: b''\n",
      "Sent: g r0x32 | Received: b''\n",
      "Sent: t 1 | Received: b''\n",
      "Sent: t 0x5002 | Received: b'e 33'\n"
     ]
    }
   ],
   "source": [
    "send_command(ser, 'r')\n",
    "#send_command(ser, 's r0xcb 4166500')  # rpm param example\n",
    "send_command(ser, 's r0xca -1000')     # move 1000 microsteps\n",
    "send_command(ser, 'g r0x32')\n",
    "send_command(ser, 't 1')              # trigger move\n",
    "send_command(ser, 't 0x5002')"
   ]
  },
  {
   "cell_type": "code",
   "execution_count": null,
   "id": "b8499e40",
   "metadata": {},
   "outputs": [
    {
     "name": "stdout",
     "output_type": "stream",
     "text": [
      "Sent: s r0xcb 20 | Received: b'ok'\n",
      "Sent: g r0x18 | Received: b'v 0'\n",
      "Sent: g r0x32 | Received: b'v 0'\n"
     ]
    }
   ],
   "source": [
    "send_command(ser, 's r0xcb 20')\n",
    "send_command(ser, 'g r0x18') # Print cur velo\n",
    "send_command(ser, 'g r0x32') # Print cur pos\n"
   ]
  },
  {
   "cell_type": "code",
   "execution_count": null,
   "id": "c7aa6fc7",
   "metadata": {},
   "outputs": [
    {
     "name": "stdout",
     "output_type": "stream",
     "text": [
      "Sent: s r0xca -1 | Received: b'ok'\n",
      "Sent: t 1 | Received: b'ok'\n"
     ]
    }
   ],
   "source": [
    "send_command(ser, 's r0xca -1')\n",
    "send_command(ser, 's r0xca 10000')\n",
    "send_command(ser, 't 1')"
   ]
  },
  {
   "cell_type": "code",
   "execution_count": 27,
   "id": "5845c724",
   "metadata": {},
   "outputs": [
    {
     "name": "stdout",
     "output_type": "stream",
     "text": [
      "Sent: s r0xc8 256 | Received: b'ok'\n",
      "Sent: s r0xc8 2 | Received: b'ok'\n",
      "Sent: g r0xc8 | Received: b'v 2'\n"
     ]
    }
   ],
   "source": [
    "send_command(ser, 's r0xc8 256') # sets traj gen to relative move & trap profile\n",
    "send_command(ser, 's r0xc8 2') # velo mode\n",
    "send_command(ser, 'g r0xc8')"
   ]
  }
 ],
 "metadata": {
  "kernelspec": {
   "display_name": "Python 3",
   "language": "python",
   "name": "python3"
  },
  "language_info": {
   "codemirror_mode": {
    "name": "ipython",
    "version": 3
   },
   "file_extension": ".py",
   "mimetype": "text/x-python",
   "name": "python",
   "nbconvert_exporter": "python",
   "pygments_lexer": "ipython3",
   "version": "3.10.11"
  }
 },
 "nbformat": 4,
 "nbformat_minor": 5
}
