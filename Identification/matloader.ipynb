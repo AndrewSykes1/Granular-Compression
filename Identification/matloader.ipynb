{
 "cells": [
  {
   "cell_type": "code",
   "execution_count": 1,
   "id": "40a27ea2",
   "metadata": {},
   "outputs": [],
   "source": [
    "import numpy as np\n",
    "import scipy.io as sio\n",
    "\n",
    "from DataViewer import DataViewer"
   ]
  },
  {
   "cell_type": "code",
   "execution_count": null,
   "id": "be28b812",
   "metadata": {},
   "outputs": [],
   "source": [
    "# Load names\n",
    "scan_name = 'Scan_4'\n",
    "peak_pre = 'Peaks_'\n",
    "vol_pre = 'Volume_'\n",
    "\n",
    "peak_name = peak_pre + scan_name\n",
    "vol_name = vol_pre + scan_name"
   ]
  },
  {
   "cell_type": "code",
   "execution_count": 45,
   "id": "ada87deb",
   "metadata": {},
   "outputs": [],
   "source": [
    "# Load data\n",
    "peak_dict = sio.loadmat(peak_name+'.mat')\n",
    "vol_dict = sio.loadmat(vol_name+'.mat')"
   ]
  },
  {
   "cell_type": "code",
   "execution_count": null,
   "id": "e31280cc",
   "metadata": {},
   "outputs": [],
   "source": [
    "print(vol_dict)"
   ]
  },
  {
   "cell_type": "code",
   "execution_count": 40,
   "id": "22d1aef3",
   "metadata": {},
   "outputs": [
    {
     "name": "stdout",
     "output_type": "stream",
     "text": [
      "[2, 0, 1] (2, 0, 1)\n"
     ]
    }
   ],
   "source": [
    "dog = [2,0,1]\n",
    "meow = tuple(dog)\n",
    "print(dog,meow)"
   ]
  },
  {
   "cell_type": "code",
   "execution_count": 47,
   "id": "c1f5a9b3",
   "metadata": {},
   "outputs": [
    {
     "name": "stdout",
     "output_type": "stream",
     "text": [
      "None\n",
      "[860 300 822]\n",
      "[822 860 300]\n",
      "(680, 3)\n",
      "None\n"
     ]
    },
    {
     "ename": "ValueError",
     "evalue": "axes don't match array",
     "output_type": "error",
     "traceback": [
      "\u001b[1;31m---------------------------------------------------------------------------\u001b[0m",
      "\u001b[1;31mValueError\u001b[0m                                Traceback (most recent call last)",
      "Cell \u001b[1;32mIn[47], line 16\u001b[0m\n\u001b[0;32m     13\u001b[0m \u001b[38;5;28mprint\u001b[39m(np\u001b[38;5;241m.\u001b[39mshape(peaks))\n\u001b[0;32m     15\u001b[0m \u001b[38;5;28mprint\u001b[39m(unordered_vol)\n\u001b[1;32m---> 16\u001b[0m vol \u001b[38;5;241m=\u001b[39m \u001b[43mnp\u001b[49m\u001b[38;5;241;43m.\u001b[39;49m\u001b[43mtranspose\u001b[49m\u001b[43m(\u001b[49m\u001b[43munordered_vol\u001b[49m\u001b[43m,\u001b[49m\u001b[43m \u001b[49m\u001b[38;5;28;43mtuple\u001b[39;49m\u001b[43m(\u001b[49m\u001b[43mperm\u001b[49m\u001b[43m)\u001b[49m\u001b[43m)\u001b[49m\n\u001b[0;32m     19\u001b[0m \u001b[38;5;28mprint\u001b[39m(np\u001b[38;5;241m.\u001b[39mshape(vol))\n\u001b[0;32m     21\u001b[0m \u001b[38;5;28mprint\u001b[39m(np\u001b[38;5;241m.\u001b[39mshape(unordered_peaks))\n",
      "File \u001b[1;32mc:\\Users\\Lab User\\AppData\\Local\\Programs\\Python\\Python310\\lib\\site-packages\\numpy\\_core\\fromnumeric.py:703\u001b[0m, in \u001b[0;36mtranspose\u001b[1;34m(a, axes)\u001b[0m\n\u001b[0;32m    630\u001b[0m \u001b[38;5;129m@array_function_dispatch\u001b[39m(_transpose_dispatcher)\n\u001b[0;32m    631\u001b[0m \u001b[38;5;28;01mdef\u001b[39;00m\u001b[38;5;250m \u001b[39m\u001b[38;5;21mtranspose\u001b[39m(a, axes\u001b[38;5;241m=\u001b[39m\u001b[38;5;28;01mNone\u001b[39;00m):\n\u001b[0;32m    632\u001b[0m \u001b[38;5;250m    \u001b[39m\u001b[38;5;124;03m\"\"\"\u001b[39;00m\n\u001b[0;32m    633\u001b[0m \u001b[38;5;124;03m    Returns an array with axes transposed.\u001b[39;00m\n\u001b[0;32m    634\u001b[0m \n\u001b[1;32m   (...)\u001b[0m\n\u001b[0;32m    701\u001b[0m \n\u001b[0;32m    702\u001b[0m \u001b[38;5;124;03m    \"\"\"\u001b[39;00m\n\u001b[1;32m--> 703\u001b[0m     \u001b[38;5;28;01mreturn\u001b[39;00m \u001b[43m_wrapfunc\u001b[49m\u001b[43m(\u001b[49m\u001b[43ma\u001b[49m\u001b[43m,\u001b[49m\u001b[43m \u001b[49m\u001b[38;5;124;43m'\u001b[39;49m\u001b[38;5;124;43mtranspose\u001b[39;49m\u001b[38;5;124;43m'\u001b[39;49m\u001b[43m,\u001b[49m\u001b[43m \u001b[49m\u001b[43maxes\u001b[49m\u001b[43m)\u001b[49m\n",
      "File \u001b[1;32mc:\\Users\\Lab User\\AppData\\Local\\Programs\\Python\\Python310\\lib\\site-packages\\numpy\\_core\\fromnumeric.py:57\u001b[0m, in \u001b[0;36m_wrapfunc\u001b[1;34m(obj, method, *args, **kwds)\u001b[0m\n\u001b[0;32m     54\u001b[0m     \u001b[38;5;28;01mreturn\u001b[39;00m _wrapit(obj, method, \u001b[38;5;241m*\u001b[39margs, \u001b[38;5;241m*\u001b[39m\u001b[38;5;241m*\u001b[39mkwds)\n\u001b[0;32m     56\u001b[0m \u001b[38;5;28;01mtry\u001b[39;00m:\n\u001b[1;32m---> 57\u001b[0m     \u001b[38;5;28;01mreturn\u001b[39;00m bound(\u001b[38;5;241m*\u001b[39margs, \u001b[38;5;241m*\u001b[39m\u001b[38;5;241m*\u001b[39mkwds)\n\u001b[0;32m     58\u001b[0m \u001b[38;5;28;01mexcept\u001b[39;00m \u001b[38;5;167;01mTypeError\u001b[39;00m:\n\u001b[0;32m     59\u001b[0m     \u001b[38;5;66;03m# A TypeError occurs if the object does have such a method in its\u001b[39;00m\n\u001b[0;32m     60\u001b[0m     \u001b[38;5;66;03m# class, but its signature is not identical to that of NumPy's. This\u001b[39;00m\n\u001b[1;32m   (...)\u001b[0m\n\u001b[0;32m     64\u001b[0m     \u001b[38;5;66;03m# Call _wrapit from within the except clause to ensure a potential\u001b[39;00m\n\u001b[0;32m     65\u001b[0m     \u001b[38;5;66;03m# exception has a traceback chain.\u001b[39;00m\n\u001b[0;32m     66\u001b[0m     \u001b[38;5;28;01mreturn\u001b[39;00m _wrapit(obj, method, \u001b[38;5;241m*\u001b[39margs, \u001b[38;5;241m*\u001b[39m\u001b[38;5;241m*\u001b[39mkwds)\n",
      "\u001b[1;31mValueError\u001b[0m: axes don't match array"
     ]
    }
   ],
   "source": [
    "# Refine data\n",
    "unordered_peaks = np.array(peak_dict.get('peaks'))\n",
    "\n",
    "unordered_vol = np.array(vol_dict.get('dataFinal'))\n",
    "print(unordered_vol)\n",
    "\n",
    "perm = [2,0,1]\n",
    "peaks = unordered_peaks[:,perm]\n",
    "\n",
    "print(unordered_peaks[0]) # [y,x,z]\n",
    "print(peaks[0]) # [822,860,300]\n",
    "\n",
    "print(np.shape(peaks))\n",
    "\n",
    "print(unordered_vol)\n",
    "vol = np.transpose(unordered_vol, tuple(perm))\n",
    "\n",
    "\n",
    "print(np.shape(vol))\n",
    "\n",
    "print(np.shape(unordered_peaks))"
   ]
  },
  {
   "cell_type": "code",
   "execution_count": null,
   "id": "0608681c",
   "metadata": {},
   "outputs": [],
   "source": [
    ">>> import numpy as np\n",
    ">>> a = np.array([[10, 20, 30, 40, 50],\n",
    "...               [ 6,  7,  8,  9, 10]])\n",
    ">>> permutation = [0, 4, 1, 3, 2]\n",
    ">>> idx = np.empty_like(permutation)\n",
    ">>> idx[permutation] = np.arange(len(permutation))\n",
    ">>> a[:, idx]  # return a rearranged copy\n",
    "array([[10, 30, 50, 40, 20],\n",
    "       [ 6,  8, 10,  9,  7]])\n",
    ">>> a[:] = a[:, idx]  # in-place modification of a"
   ]
  },
  {
   "cell_type": "code",
   "execution_count": null,
   "id": "1ffd6c13",
   "metadata": {},
   "outputs": [],
   "source": [
    "Cropped:(921,891,852) # [y,x,z]\n",
    "\n",
    "peaks_csv = np.loadmat(file_name) # [y,x,z]\n",
    "peaks_unordered = peaks_csv.tolist()\n",
    "peaks = peaks_unordered[2,0,1] # [z,y,x]"
   ]
  }
 ],
 "metadata": {
  "kernelspec": {
   "display_name": "Python 3",
   "language": "python",
   "name": "python3"
  },
  "language_info": {
   "codemirror_mode": {
    "name": "ipython",
    "version": 3
   },
   "file_extension": ".py",
   "mimetype": "text/x-python",
   "name": "python",
   "nbconvert_exporter": "python",
   "pygments_lexer": "ipython3",
   "version": "3.10.11"
  }
 },
 "nbformat": 4,
 "nbformat_minor": 5
}
