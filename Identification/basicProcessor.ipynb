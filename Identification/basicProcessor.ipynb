{
 "cells": [
  {
   "cell_type": "code",
   "execution_count": null,
   "id": "db80cb09",
   "metadata": {},
   "outputs": [],
   "source": [
    "import h5py\n",
    "\n",
    "import numpy as np\n",
    "\n",
    "from scipy.ndimage import median_filter"
   ]
  },
  {
   "cell_type": "code",
   "execution_count": null,
   "id": "028f52cb",
   "metadata": {},
   "outputs": [],
   "source": [
    "filePath = r\"./Scan_162.hdf5\"\n",
    "dataPath = f'/RawData/Scan_162'\n",
    "\n",
    "with h5py.File(filePath,'r') as f: \n",
    "    data = f[dataPath][()] # (slices, rows, width)\n",
    "data = np.transpose(data,[1,2,0]) # (rows, width, slices)\n",
    "dataCropped = data[150:1100,50:970,:]\n",
    "cR, cW, cZ = np.shape(dataCropped)"
   ]
  },
  {
   "cell_type": "code",
   "execution_count": null,
   "id": "1b893ac4",
   "metadata": {},
   "outputs": [],
   "source": [
    "highPct, medPct = 99, 95\n",
    "\n",
    "# Apply median filter and threshold\n",
    "threshHigh = np.percentile(dataCropped, highPct)\n",
    "filteredData = median_filter(dataCropped, size=(3, 3, 3))\n",
    "dataCropped[dataCropped > threshHigh] = filteredData[dataCropped > threshHigh]\n",
    "\n",
    "# Update threshold and replace values above it with the median\n",
    "threshHigh = np.percentile(dataCropped, highPct)\n",
    "dataCropped[dataCropped > threshHigh] = np.mean(np.percentile(dataCropped, medPct))\n"
   ]
  },
  {
   "cell_type": "code",
   "execution_count": null,
   "id": "a93359b4",
   "metadata": {},
   "outputs": [],
   "source": [
    "meanPerCol = np.mean(dataCropped,axis=(1,2))\n",
    "meanCenterRow = meanPerCol[math.floor(cR/2)]\n",
    "scales = meanCenterRow/meanPerCol\n",
    "\n",
    "dataColNorm = dataCropped*scales[:, np.newaxis, np.newaxis]\n",
    "dataNorm = np.clip(exposure.rescale_intensity(dataColNorm, in_range='image', out_range=(0,1)), 0, 1)\n",
    "\n",
    "blurred = gaussian_filter(dataNorm, sigma=3)\n",
    "strength = 0.2\n",
    "dataSharp = np.clip(dataNorm + strength * blurred, 0, 1)"
   ]
  },
  {
   "cell_type": "code",
   "execution_count": null,
   "id": "421994c8",
   "metadata": {},
   "outputs": [],
   "source": [
    "fig, axs = plt.subplots(1, 4, figsize=(16, 4)) \n",
    "ax1, ax2, ax3, ax4 = axs.flatten()\n",
    "\n",
    "ax1.imshow(dataCropped[:, :, math.floor(cZ/2)], cmap='gray')\n",
    "ax2.imshow(dataColNorm[:, :, math.floor(cZ/2)], cmap='gray')\n",
    "ax3.imshow(dataNorm[:, :, math.floor(cZ/2)], cmap='gray')\n",
    "ax4.imshow(dataSharp[:, :, math.floor(cZ/2)], cmap='gray')\n",
    "\n",
    "ax1.set_title('Cropped')\n",
    "ax2.set_title('Col Norm')\n",
    "ax3.set_title('Full Norm')\n",
    "ax4.set_title('Sharp')\n",
    "\n",
    "for ax in axs:\n",
    "    ax.axis('off')\n",
    "\n",
    "plt.show()"
   ]
  },
  {
   "cell_type": "code",
   "execution_count": null,
   "id": "e976e389",
   "metadata": {},
   "outputs": [],
   "source": [
    "# Download processed data\n",
    "data = dataSharp\n",
    "with h5py.File('processed_162.hdf5', 'w') as f: \n",
    "    dset = f.create_dataset(\"default\", data)"
   ]
  }
 ],
 "metadata": {
  "language_info": {
   "name": "python"
  }
 },
 "nbformat": 4,
 "nbformat_minor": 5
}
