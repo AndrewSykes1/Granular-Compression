{
 "cells": [
  {
   "cell_type": "code",
   "execution_count": 72,
   "id": "40a27ea2",
   "metadata": {},
   "outputs": [],
   "source": [
    "import numpy as np\n",
    "import scipy.io as sio\n",
    "import h5py\n",
    "import os\n",
    "import napari\n",
    "from qtpy.QtWidgets import QSlider, QVBoxLayout, QWidget, QLabel\n",
    "from qtpy.QtCore import Qt\n",
    "from scipy.ndimage import zoom\n",
    "\n",
    "from DataViewer import DataViewer"
   ]
  },
  {
   "cell_type": "code",
   "execution_count": null,
   "id": "be28b812",
   "metadata": {},
   "outputs": [],
   "source": [
    "# Load names\n",
    "scan_name = 'Scan_162'\n",
    "peak_pre = 'Peaks_'\n",
    "vol_pre = 'Volume_'\n",
    "ext = '.mat'\n",
    "folder = './DataOutput/'\n",
    "\n",
    "peak_name = folder + peak_pre + scan_name + ext\n",
    "vol_name = vol_pre+scan_name+'.h5'"
   ]
  },
  {
   "cell_type": "code",
   "execution_count": 74,
   "id": "db06dc68",
   "metadata": {},
   "outputs": [
    {
     "name": "stdout",
     "output_type": "stream",
     "text": [
      "Volume_Scan_4.h5\n",
      "Keys: <KeysViewHDF5 ['dataFinal']>\n"
     ]
    }
   ],
   "source": [
    "print(str(vol_name))\n",
    "first_dir = os.getcwd()\n",
    "\n",
    "peak_dict = sio.loadmat(peak_name)\n",
    "\n",
    "os.chdir('DataOutput')\n",
    "with h5py.File(vol_name, \"r\") as f:\n",
    "    print(f'Keys: {f.keys()}')\n",
    "    group = f['dataFinal'][:]\n",
    "os.chdir(first_dir)\n"
   ]
  },
  {
   "cell_type": "code",
   "execution_count": 75,
   "id": "c1f5a9b3",
   "metadata": {},
   "outputs": [
    {
     "name": "stdout",
     "output_type": "stream",
     "text": [
      "(680, 3) (852, 892, 922)\n"
     ]
    }
   ],
   "source": [
    "unordered_peaks = np.array(peak_dict.get('peaks'))\n",
    "unordered_vol = np.array(group)\n",
    "\n",
    "print(np.shape(unordered_peaks), np.shape(unordered_vol))"
   ]
  },
  {
   "cell_type": "code",
   "execution_count": 76,
   "id": "e74f25b4",
   "metadata": {},
   "outputs": [
    {
     "name": "stdout",
     "output_type": "stream",
     "text": [
      "(680, 3) (852, 892, 922)\n"
     ]
    }
   ],
   "source": [
    "perm = [2,0,1]\n",
    "peaks = unordered_peaks[:,perm]\n",
    "volume = np.transpose(unordered_vol, tuple(perm))\n",
    "\n",
    "print(np.shape(unordered_peaks), np.shape(unordered_vol))"
   ]
  },
  {
   "cell_type": "code",
   "execution_count": 77,
   "id": "a26ff9f5",
   "metadata": {},
   "outputs": [],
   "source": [
    "adjust_peaks = np.copy(peaks)\n",
    "adjust_vol = np.copy(volume)\n",
    "scale = 0.5"
   ]
  },
  {
   "cell_type": "code",
   "execution_count": 78,
   "id": "e6ab6203",
   "metadata": {},
   "outputs": [],
   "source": [
    "downscale_vol = zoom(adjust_vol, (scale,scale,scale))"
   ]
  },
  {
   "cell_type": "code",
   "execution_count": 79,
   "id": "943a0077",
   "metadata": {},
   "outputs": [
    {
     "name": "stdout",
     "output_type": "stream",
     "text": [
      "(922, 852, 892)\n",
      "(461, 426, 446)\n"
     ]
    }
   ],
   "source": [
    "print(np.shape(volume))\n",
    "print(np.shape(downscale_vol))\n",
    "peaks = peaks.astype(float)\n",
    "\n",
    "adjust_vol[:, 1] *= 0.5\n",
    "adjust_vol[:, 2] *= 0.5\n",
    "volume = downscale_vol"
   ]
  },
  {
   "cell_type": "code",
   "execution_count": 80,
   "id": "99d28a4f",
   "metadata": {},
   "outputs": [],
   "source": [
    "volume = np.copy(adjust_vol)\n",
    "adjust = np.copy(peaks)"
   ]
  },
  {
   "cell_type": "code",
   "execution_count": null,
   "id": "7ec5604e",
   "metadata": {},
   "outputs": [],
   "source": [
    "viewer = napari.Viewer(ndisplay=3)\n",
    "image_layer = viewer.add_image(volume, name='Volume', colormap='gray') # Plots in [z,y,x]\n",
    "points_layer = viewer.add_points(adjust, size=10, face_color='red', name='Centers')\n",
    "\n",
    "dock_widget = QWidget()\n",
    "layout = QVBoxLayout()\n",
    "\n",
    "label_min = QLabel(\"Min Z\")\n",
    "slider_min = QSlider(Qt.Horizontal)\n",
    "slider_min.setMinimum(0)\n",
    "slider_min.setMaximum(volume.shape[0]-1) # Uses z coord of data -1 to find max\n",
    "slider_min.setValue(0)\n",
    "\n",
    "label_max = QLabel(\"Max Z\")\n",
    "slider_max = QSlider(Qt.Horizontal)\n",
    "slider_max.setMinimum(0)\n",
    "slider_max.setMaximum(volume.shape[0]-1)\n",
    "slider_max.setValue(volume.shape[0]-1)\n",
    "\n",
    "layout.addWidget(label_min)\n",
    "layout.addWidget(slider_min)\n",
    "layout.addWidget(label_max)\n",
    "layout.addWidget(slider_max)\n",
    "dock_widget.setLayout(layout)\n",
    "viewer.window.add_dock_widget(dock_widget, area='bottom')\n",
    "\n",
    "def update_view():\n",
    "    \n",
    "    zmin = slider_min.value()\n",
    "    zmax = slider_max.value()\n",
    "\n",
    "    # Clip points to slab\n",
    "    filtered_points = adjust[(adjust[:, 0] >= zmin) & (adjust[:, 0] <= zmax)]\n",
    "    points_layer.data = filtered_points  # z, y, x order\n",
    "\n",
    "    # Clip volume to slab\n",
    "    filtered_data = volume[zmin:zmax+1, :, :]\n",
    "    image_layer.data = np.pad(filtered_data, pad_width=[[zmin, volume.shape[0] - zmax - 1], [0, 0], [0, 0]], mode='constant', constant_values=0)\n",
    "\n",
    "slider_min.valueChanged.connect(update_view)\n",
    "slider_max.valueChanged.connect(update_view)\n",
    "update_view()  # initialize\n",
    "\n",
    "napari.run()"
   ]
  }
 ],
 "metadata": {
  "kernelspec": {
   "display_name": "Python 3",
   "language": "python",
   "name": "python3"
  },
  "language_info": {
   "codemirror_mode": {
    "name": "ipython",
    "version": 3
   },
   "file_extension": ".py",
   "mimetype": "text/x-python",
   "name": "python",
   "nbconvert_exporter": "python",
   "pygments_lexer": "ipython3",
   "version": "3.10.11"
  }
 },
 "nbformat": 4,
 "nbformat_minor": 5
}
