{
 "cells": [
  {
   "cell_type": "code",
   "execution_count": 14,
   "id": "bf72b46a",
   "metadata": {},
   "outputs": [],
   "source": [
    "import os\n",
    "import h5py\n",
    "import numpy as np\n",
    "import math\n",
    "\n",
    "from scipy.ndimage import median_filter, gaussian_filter, zoom\n",
    "from skimage import exposure\n",
    "from scipy.signal import fftconvolve\n",
    "from skimage.feature import peak_local_max\n",
    "import matplotlib.pyplot as plt\n",
    "from helpers import sech, normalize, ipf3D, convolution3D_FFTdomain, chiimg3D_FFT, findpeaks3D, pgrid3D, cidp23D"
   ]
  },
  {
   "cell_type": "code",
   "execution_count": 15,
   "id": "c82f92cc",
   "metadata": {},
   "outputs": [],
   "source": [
    "filePath = r\"C:\\Users\\Lab User\\Desktop\\experiment data\\07292025\\Scan_4.hdf5\"\n",
    "dataPath = f'/RawData/Scan_4'\n",
    "\n",
    "with h5py.File(filePath,'r') as f: \n",
    "    data = f[dataPath][()]\n",
    "data = np.transpose(data, (1,2,0))  # (y,x,z)\n",
    "\n",
    "# Crop ROI\n",
    "yMin, yMax, xMin, xMax = 160, 1080, 66, 956\n",
    "dataCropped = data[yMin:yMax, xMin:xMax, :].astype(float)\n",
    "\n",
    "cropX, cropY, cropZ = np.shape(dataCropped)"
   ]
  },
  {
   "cell_type": "code",
   "execution_count": 16,
   "id": "5803d9bc",
   "metadata": {},
   "outputs": [
    {
     "ename": "ValueError",
     "evalue": "operands could not be broadcast together with shapes (920,890,852) (890,1,1) ",
     "output_type": "error",
     "traceback": [
      "\u001b[1;31m---------------------------------------------------------------------------\u001b[0m",
      "\u001b[1;31mValueError\u001b[0m                                Traceback (most recent call last)",
      "Cell \u001b[1;32mIn[16], line 18\u001b[0m\n\u001b[0;32m     16\u001b[0m meanPerCol \u001b[38;5;241m=\u001b[39m np\u001b[38;5;241m.\u001b[39mmean(dataNorm, axis\u001b[38;5;241m=\u001b[39m(\u001b[38;5;241m0\u001b[39m, \u001b[38;5;241m2\u001b[39m))  \u001b[38;5;66;03m# Mean across 2nd and 3rd dimensions (rows and depth)\u001b[39;00m\n\u001b[0;32m     17\u001b[0m scaleFactors \u001b[38;5;241m=\u001b[39m meanPerCol[\u001b[38;5;28mint\u001b[39m(cropZ\u001b[38;5;241m/\u001b[39m\u001b[38;5;241m2\u001b[39m)] \u001b[38;5;241m/\u001b[39m meanPerCol  \u001b[38;5;66;03m# Normalize with the middle column\u001b[39;00m\n\u001b[1;32m---> 18\u001b[0m dataColNorm \u001b[38;5;241m=\u001b[39m np\u001b[38;5;241m.\u001b[39mclip(\u001b[43mdataNorm\u001b[49m\u001b[43m \u001b[49m\u001b[38;5;241;43m*\u001b[39;49m\u001b[43m \u001b[49m\u001b[43mscaleFactors\u001b[49m\u001b[43m[\u001b[49m\u001b[43m:\u001b[49m\u001b[43m,\u001b[49m\u001b[43m \u001b[49m\u001b[43mnp\u001b[49m\u001b[38;5;241;43m.\u001b[39;49m\u001b[43mnewaxis\u001b[49m\u001b[43m,\u001b[49m\u001b[43m \u001b[49m\u001b[43mnp\u001b[49m\u001b[38;5;241;43m.\u001b[39;49m\u001b[43mnewaxis\u001b[49m\u001b[43m]\u001b[49m, \u001b[38;5;241m0\u001b[39m, \u001b[38;5;241m1\u001b[39m)\n\u001b[0;32m     20\u001b[0m \u001b[38;5;66;03m# Re-normalize after column normalization\u001b[39;00m\n\u001b[0;32m     21\u001b[0m dataReNorm \u001b[38;5;241m=\u001b[39m exposure\u001b[38;5;241m.\u001b[39mrescale_intensity(dataColNorm, in_range\u001b[38;5;241m=\u001b[39m\u001b[38;5;124m'\u001b[39m\u001b[38;5;124mimage\u001b[39m\u001b[38;5;124m'\u001b[39m, out_range\u001b[38;5;241m=\u001b[39m(\u001b[38;5;241m0\u001b[39m, \u001b[38;5;241m1\u001b[39m))\n",
      "\u001b[1;31mValueError\u001b[0m: operands could not be broadcast together with shapes (920,890,852) (890,1,1) "
     ]
    }
   ],
   "source": [
    "highPct, medPct = 99, 95\n",
    "\n",
    "# Apply median filter and threshold\n",
    "threshHigh = np.percentile(dataCropped, highPct)\n",
    "filteredData = median_filter(dataCropped, size=(3, 3, 3))\n",
    "dataCropped[dataCropped > threshHigh] = filteredData[dataCropped > threshHigh]\n",
    "\n",
    "# Update threshold and replace values above it with the median\n",
    "threshHigh = np.percentile(dataCropped, highPct)\n",
    "dataCropped[dataCropped > threshHigh] = np.mean(np.percentile(dataCropped, medPct))\n",
    "\n",
    "# Normalize data to range [0, 1] and clip it\n",
    "dataNorm = np.clip(exposure.rescale_intensity(dataCropped, in_range='image', out_range=(0, 1)), 0, 1)\n",
    "\n",
    "# Column-wise normalization\n",
    "meanPerCol = np.mean(dataNorm, axis=(0, 2))  # Mean across 2nd and 3rd dimensions (rows and depth)\n",
    "scaleFactors = meanPerCol[int(cropZ/2)] / meanPerCol  # Normalize with the middle column\n",
    "dataColNorm = np.clip(dataNorm * scaleFactors[:, np.newaxis, np.newaxis], 0, 1)\n",
    "\n",
    "# Re-normalize after column normalization\n",
    "dataReNorm = exposure.rescale_intensity(dataColNorm, in_range='image', out_range=(0, 1))\n",
    "\n",
    "# Sharpen image\n",
    "strength = 0.2\n",
    "blurred = gaussian_filter(dataColNorm, sigma=3)\n",
    "dataSharp = np.clip(dataReNorm - strength * (dataReNorm - blurred), 0, 1)"
   ]
  },
  {
   "cell_type": "code",
   "execution_count": null,
   "id": "424dcb01",
   "metadata": {},
   "outputs": [],
   "source": [
    "# Downsample\n",
    "scaleFactor = 0.5\n",
    "dataRescale = zoom(dataSharp, scaleFactor, order=1)"
   ]
  },
  {
   "cell_type": "code",
   "execution_count": null,
   "id": "2e89f0ef",
   "metadata": {},
   "outputs": [],
   "source": [
    "# -----------------------------\n",
    "# Plot intermediate steps\n",
    "# -----------------------------\n",
    "z_mid = dataNorm.shape[2] // 2\n",
    "\n",
    "plt.figure(figsize=(12,4))\n",
    "plt.subplot(1,3,1)\n",
    "plt.imshow(dataCropped[:,:,z_mid], cmap='gray')\n",
    "plt.title('Cropped')\n",
    "plt.subplot(1,3,2)\n",
    "plt.imshow(dataNorm[:,:,z_mid], cmap='gray')\n",
    "plt.title('Normalized + Background Corrected')\n",
    "plt.subplot(1,3,3)\n",
    "plt.imshow(dataSharp[:,:,z_mid], cmap='gray')\n",
    "plt.title('Sharpened')\n",
    "plt.show()\n",
    "\n",
    "plt.figure()\n",
    "plt.hist(dataNorm.ravel(), bins=100)\n",
    "plt.xlabel('Voxel intensity')\n",
    "plt.ylabel('Number of voxels')\n",
    "plt.title('Histogram of normalized voxel values')\n",
    "plt.show()"
   ]
  },
  {
   "cell_type": "code",
   "execution_count": null,
   "id": "d4f47232",
   "metadata": {},
   "outputs": [],
   "source": [
    "# -----------------------------\n",
    "# Particle detection\n",
    "# -----------------------------\n",
    "D, w = 100*scaleFactor, 2.5*scaleFactor\n",
    "Cutoff, MinSep = 5, 75*scaleFactor\n",
    "ss = int(2*(D/2 + 4*w/2)-1)\n",
    "os = (ss-1)//2\n",
    "xx, yy, zz = np.meshgrid(np.arange(-os,os+1), np.arange(-os,os+1), np.arange(-os,os+1), indexing='ij')\n",
    "r = np.sqrt(xx**2 + yy**2 + zz**2)\n",
    "ipi = ipf3D(r, D, w)\n",
    "chi3D, _ = chiimg3D_FFT(dataRescale, ipi)\n",
    "Np, px, py, pz = findpeaks3D(1./(chi3D+1e-12), Cutoff=Cutoff, MinSep=MinSep)"
   ]
  },
  {
   "cell_type": "code",
   "execution_count": null,
   "id": "0ef5ee0d",
   "metadata": {},
   "outputs": [],
   "source": [
    "# Sub-voxel refinement\n",
    "cxyz, over = pgrid3D(px, py, pz, dataRescale.shape[1], dataRescale.shape[0], dataRescale.shape[2], Np, os, 0)\n",
    "r_full = np.sqrt(cxyz.x**2 + cxyz.y**2 + cxyz.z**2)\n",
    "ci = ipf3D(r_full, D, w)\n",
    "di = ci - dataRescale\n",
    "chi2 = np.sum(di**2)\n",
    "nr, delchi2, mindelchi2, maxnr = 0, 1e99, 1, 5\n",
    "while abs(delchi2)>mindelchi2 and nr<maxnr:\n",
    "    dpx, dpy, dpz = cidp23D(cxyz, over, di, Np, D, w)\n",
    "    px += dpx; py += dpy; pz += dpz\n",
    "    cxyz, over = pgrid3D(px, py, pz, dataRescale.shape[1], dataRescale.shape[0], dataRescale.shape[2], Np, os, 0)\n",
    "    r_full = np.sqrt(cxyz.x**2 + cxyz.y**2 + cxyz.z**2)\n",
    "    ci = ipf3D(r_full, D, w)\n",
    "    di = ci - dataRescale\n",
    "    delchi2 = chi2 - np.sum(di**2)\n",
    "    chi2 -= delchi2\n",
    "    nr += 1"
   ]
  },
  {
   "cell_type": "code",
   "execution_count": null,
   "id": "a7b154cb",
   "metadata": {},
   "outputs": [],
   "source": [
    "# -----------------------------\n",
    "# Visualization\n",
    "# -----------------------------\n",
    "# Max projection of residual\n",
    "plt.figure()\n",
    "plt.imshow(np.max(di**2, axis=2), cmap='gray', origin='lower')\n",
    "plt.colorbar()\n",
    "plt.title(f'Residual Chi^2 (max projection), Chi2={chi2:.2f}')\n",
    "plt.show()"
   ]
  },
  {
   "cell_type": "code",
   "execution_count": null,
   "id": "53dc32fa",
   "metadata": {},
   "outputs": [],
   "source": [
    "# 3D scatter of particle centers\n",
    "from mpl_toolkits.mplot3d import Axes3D\n",
    "fig = plt.figure()\n",
    "ax = fig.add_subplot(111, projection='3d')\n",
    "ax.scatter(px, py, pz, c='r', s=50)\n",
    "ax.set_xlim(0, dataRescale.shape[1])\n",
    "ax.set_ylim(0, dataRescale.shape[0])\n",
    "ax.set_zlim(0, dataRescale.shape[2])\n",
    "ax.set_xlabel('X'); ax.set_ylabel('Y'); ax.set_zlabel('Z')\n",
    "ax.set_title('Detected particle centers')\n",
    "plt.show()\n"
   ]
  }
 ],
 "metadata": {
  "kernelspec": {
   "display_name": "Python 3",
   "language": "python",
   "name": "python3"
  },
  "language_info": {
   "codemirror_mode": {
    "name": "ipython",
    "version": 3
   },
   "file_extension": ".py",
   "mimetype": "text/x-python",
   "name": "python",
   "nbconvert_exporter": "python",
   "pygments_lexer": "ipython3",
   "version": "3.10.11"
  }
 },
 "nbformat": 4,
 "nbformat_minor": 5
}
